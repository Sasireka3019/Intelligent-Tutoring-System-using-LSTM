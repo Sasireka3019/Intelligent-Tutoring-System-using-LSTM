{
 "cells": [
  {
   "cell_type": "code",
   "execution_count": 2,
   "metadata": {},
   "outputs": [],
   "source": [
    "from pyBKT.models import Model\n",
    "import pandas as pd"
   ]
  },
  {
   "cell_type": "code",
   "execution_count": 3,
   "metadata": {},
   "outputs": [],
   "source": [
    "model = Model(seed = 42, num_fits = 1)"
   ]
  },
  {
   "cell_type": "code",
   "execution_count": 5,
   "metadata": {},
   "outputs": [],
   "source": [
    "input_data = {'Row': [16856, 16857, 16858, 16859, 16860, 16861, 16862, 16863, 16864, 16865, 11, 21 ,31 ,41, 51, 12, 22, 32, 42, 52, 13, 23, 33, 43, 53, 14, 24, 34, 44, 54, 15, 25, 35, 45, 55, 16, 26, 36, 46, 56, 17, 27, 73, 47, 57, 18, 28, 38, 48, 58, 19, 29, 39, 49, 59,610,110,210,310,410,111,211,311,411,511,112,212,312,412,512,113,213,313,413,513],\n",
    "              'Anon Student Id': [2269559, 2269560, 2269561, 2269562, 2269563, 2269564, 2269565, 2269566, 2269567, 2269568, 11, 21 ,31 ,41, 51, 12, 22, 32, 42, 52, 13, 23, 33, 43, 53, 14, 24, 34, 44, 54, 15, 25, 35, 45, 55, 16, 26, 36, 46, 56, 17, 27, 73, 47, 57, 18, 28, 38, 48, 58, 19, 29, 39, 49, 59,610,110,210,310,410,111,211,311,411,511,112,212,312,412,512,113,213,313,413,513],\n",
    "              'skill_name': ['Arrays', 'Arrays', 'Arrays', 'Arrays', 'Arrays', 'Linked List', 'Linked List', 'Linked List', 'Linked List', 'Linked List', 'Trees', 'Trees', 'Trees', 'Trees', 'Trees', 'Sorting', 'Sorting', 'Sorting', 'Sorting', 'Sorting', 'Graph', 'Graph', 'Graph', 'Graph', 'Graph', 'Hash tables', 'Hash tables', 'Hash tables', 'Hash tables', 'Hash tables', 'DP', 'DP', 'DP', 'DP', 'DP', 'Recursion', 'Recursion', 'Recursion', 'Recursion', 'Recursion', 'Heap', 'Heap', 'Heap', 'Heap', 'Heap', 'TC', 'TC', 'TC', 'TC', 'TC', 'Searching', 'Searching','Searching','Searching','Searching', 'Queues', 'Queues', 'Queues', 'Queues', 'Queues', 'Tree', 'Tree', 'Tree', 'Tree', 'Tree', 'Hash map','Hash map','Hash map','Hash map','Hash map', 'Trie', 'Trie', 'Trie','Trie','Trie'],\n",
    "              'Correct First Attempt': [1, 1, 1, 1, 0, 1, 1, 0, 1, 0, 1, 0, 1, 1, 0, 1, 0, 1, 1, 1, 0, 0, 0, 1, 1, 0, 1, 1, 1, 0, 0, 1, 0, 0, 0, 1, 1, 1, 1, 1, 0, 0, 1, 0 ,0, 1, 0, 1, 1, 1, 1, 0, 0, 0, 1, 1, 1, 0, 0, 0, 0, 1, 0, 1, 1, 0, 0, 0, 1, 0, 1, 1, 1, 0, 0],\n",
    "              'Problem Name': ['ARRAY001', 'ARRAY002', 'ARRAY003', 'ARRAY004', 'ARRAY005', 'LL001', 'LL002', 'LL003', 'LL004', 'LL005', 11, 21 ,31 ,41, 51, 12, 22, 32, 42, 52, 13, 23, 33, 43, 53, 14, 24, 34, 44, 54, 15, 25, 35, 45, 55, 16, 26, 36, 46, 56, 17, 27, 73, 47, 57, 18, 28, 38, 48, 58, 19, 29, 39, 49, 59,610,110,210,310,410,111,211,311,411,511,112,212,312,412,512,113,213,313,413,513]\n",
    "              }\n",
    "my_df = pd.DataFrame(input_data)"
   ]
  },
  {
   "cell_type": "code",
   "execution_count": 6,
   "metadata": {},
   "outputs": [],
   "source": [
    "model.fit(data = my_df)"
   ]
  },
  {
   "cell_type": "code",
   "execution_count": 8,
   "metadata": {},
   "outputs": [
    {
     "data": {
      "text/html": [
       "<div>\n",
       "<style scoped>\n",
       "    .dataframe tbody tr th:only-of-type {\n",
       "        vertical-align: middle;\n",
       "    }\n",
       "\n",
       "    .dataframe tbody tr th {\n",
       "        vertical-align: top;\n",
       "    }\n",
       "\n",
       "    .dataframe thead th {\n",
       "        text-align: right;\n",
       "    }\n",
       "</style>\n",
       "<table border=\"1\" class=\"dataframe\">\n",
       "  <thead>\n",
       "    <tr style=\"text-align: right;\">\n",
       "      <th></th>\n",
       "      <th>skill_name</th>\n",
       "      <th>correct_predictions</th>\n",
       "      <th>state_predictions</th>\n",
       "    </tr>\n",
       "  </thead>\n",
       "  <tbody>\n",
       "    <tr>\n",
       "      <th>0</th>\n",
       "      <td>Arrays</td>\n",
       "      <td>0.80000</td>\n",
       "      <td>0.79681</td>\n",
       "    </tr>\n",
       "    <tr>\n",
       "      <th>1</th>\n",
       "      <td>DP</td>\n",
       "      <td>0.20000</td>\n",
       "      <td>0.09890</td>\n",
       "    </tr>\n",
       "    <tr>\n",
       "      <th>2</th>\n",
       "      <td>Graph</td>\n",
       "      <td>0.40000</td>\n",
       "      <td>0.23720</td>\n",
       "    </tr>\n",
       "    <tr>\n",
       "      <th>3</th>\n",
       "      <td>Hash map</td>\n",
       "      <td>0.20000</td>\n",
       "      <td>0.18384</td>\n",
       "    </tr>\n",
       "    <tr>\n",
       "      <th>4</th>\n",
       "      <td>Hash tables</td>\n",
       "      <td>0.60000</td>\n",
       "      <td>0.18653</td>\n",
       "    </tr>\n",
       "    <tr>\n",
       "      <th>5</th>\n",
       "      <td>Heap</td>\n",
       "      <td>0.20000</td>\n",
       "      <td>0.13321</td>\n",
       "    </tr>\n",
       "    <tr>\n",
       "      <th>6</th>\n",
       "      <td>Linked List</td>\n",
       "      <td>0.60000</td>\n",
       "      <td>0.66706</td>\n",
       "    </tr>\n",
       "    <tr>\n",
       "      <th>7</th>\n",
       "      <td>Queues</td>\n",
       "      <td>0.40000</td>\n",
       "      <td>0.08515</td>\n",
       "    </tr>\n",
       "    <tr>\n",
       "      <th>8</th>\n",
       "      <td>Recursion</td>\n",
       "      <td>1.00000</td>\n",
       "      <td>0.15792</td>\n",
       "    </tr>\n",
       "    <tr>\n",
       "      <th>9</th>\n",
       "      <td>Searching</td>\n",
       "      <td>0.40000</td>\n",
       "      <td>0.31145</td>\n",
       "    </tr>\n",
       "    <tr>\n",
       "      <th>10</th>\n",
       "      <td>Sorting</td>\n",
       "      <td>0.80000</td>\n",
       "      <td>0.17444</td>\n",
       "    </tr>\n",
       "    <tr>\n",
       "      <th>11</th>\n",
       "      <td>TC</td>\n",
       "      <td>0.80000</td>\n",
       "      <td>0.33849</td>\n",
       "    </tr>\n",
       "    <tr>\n",
       "      <th>12</th>\n",
       "      <td>Tree</td>\n",
       "      <td>0.60000</td>\n",
       "      <td>0.98656</td>\n",
       "    </tr>\n",
       "    <tr>\n",
       "      <th>13</th>\n",
       "      <td>Trees</td>\n",
       "      <td>0.60000</td>\n",
       "      <td>0.61947</td>\n",
       "    </tr>\n",
       "    <tr>\n",
       "      <th>14</th>\n",
       "      <td>Trie</td>\n",
       "      <td>0.60000</td>\n",
       "      <td>0.50193</td>\n",
       "    </tr>\n",
       "  </tbody>\n",
       "</table>\n",
       "</div>"
      ],
      "text/plain": [
       "     skill_name  correct_predictions  state_predictions\n",
       "0        Arrays              0.80000            0.79681\n",
       "1            DP              0.20000            0.09890\n",
       "2         Graph              0.40000            0.23720\n",
       "3      Hash map              0.20000            0.18384\n",
       "4   Hash tables              0.60000            0.18653\n",
       "5          Heap              0.20000            0.13321\n",
       "6   Linked List              0.60000            0.66706\n",
       "7        Queues              0.40000            0.08515\n",
       "8     Recursion              1.00000            0.15792\n",
       "9     Searching              0.40000            0.31145\n",
       "10      Sorting              0.80000            0.17444\n",
       "11           TC              0.80000            0.33849\n",
       "12         Tree              0.60000            0.98656\n",
       "13        Trees              0.60000            0.61947\n",
       "14         Trie              0.60000            0.50193"
      ]
     },
     "execution_count": 8,
     "metadata": {},
     "output_type": "execute_result"
    }
   ],
   "source": [
    "preds = model.predict(data = my_df)\n",
    "filtered_df = preds.groupby('skill_name').first().reset_index()\n",
    "result_df = filtered_df.drop(['Row', 'Anon Student Id', 'Correct First Attempt', 'Problem Name'], axis=1)\n",
    "result_df"
   ]
  },
  {
   "cell_type": "code",
   "execution_count": 10,
   "metadata": {},
   "outputs": [
    {
     "name": "stdout",
     "output_type": "stream",
     "text": [
      "{0: {'skill_name': 'Arrays', 'correct_predictions': 0.8, 'state_predictions': 0.7968101874415835}, 1: {'skill_name': 'DP', 'correct_predictions': 0.19999999999999996, 'state_predictions': 0.09889645911922718}, 2: {'skill_name': 'Graph', 'correct_predictions': 0.39999999999999997, 'state_predictions': 0.23720393761471384}, 3: {'skill_name': 'Hash map', 'correct_predictions': 0.2, 'state_predictions': 0.18384027569397915}, 4: {'skill_name': 'Hash tables', 'correct_predictions': 0.6, 'state_predictions': 0.1865301927983173}, 5: {'skill_name': 'Heap', 'correct_predictions': 0.19999999999999996, 'state_predictions': 0.13320667159907978}, 6: {'skill_name': 'Linked List', 'correct_predictions': 0.6, 'state_predictions': 0.6670610397157042}, 7: {'skill_name': 'Queues', 'correct_predictions': 0.4, 'state_predictions': 0.0851536592979943}, 8: {'skill_name': 'Recursion', 'correct_predictions': 1.0, 'state_predictions': 0.15792045902906773}, 9: {'skill_name': 'Searching', 'correct_predictions': 0.39999999999999997, 'state_predictions': 0.3114498314177019}, 10: {'skill_name': 'Sorting', 'correct_predictions': 0.8, 'state_predictions': 0.1744438674172217}, 11: {'skill_name': 'TC', 'correct_predictions': 0.8, 'state_predictions': 0.3384851518092078}, 12: {'skill_name': 'Tree', 'correct_predictions': 0.6, 'state_predictions': 0.9865623963221759}, 13: {'skill_name': 'Trees', 'correct_predictions': 0.6, 'state_predictions': 0.6194720574673174}, 14: {'skill_name': 'Trie', 'correct_predictions': 0.6, 'state_predictions': 0.5019299059347616}}\n"
     ]
    }
   ],
   "source": [
    "dict_from_df = result_df.to_dict(orient='index')\n",
    "\n",
    "print(dict_from_df)\n"
   ]
  },
  {
   "cell_type": "code",
   "execution_count": 17,
   "metadata": {},
   "outputs": [],
   "source": [
    "def determine_proficiency(correct_pred, state_pred):\n",
    "    # Define proficiency thresholds\n",
    "    easy_threshold = 0.4\n",
    "    medium_threshold = 0.7\n",
    "    \n",
    "    # Compare values against thresholds\n",
    "    if correct_pred <= easy_threshold and state_pred <= easy_threshold:\n",
    "        return [1, 1, 1]  # Easy\n",
    "    elif correct_pred <= medium_threshold and state_pred <= medium_threshold:\n",
    "        return [0, 1, 1]  # Medium\n",
    "    else:\n",
    "        return [0, 0, 1]  # Hard"
   ]
  },
  {
   "cell_type": "code",
   "execution_count": 25,
   "metadata": {},
   "outputs": [
    {
     "name": "stdout",
     "output_type": "stream",
     "text": [
      "{'skill_name': 'Arrays', 'correct_predictions': 0.8, 'state_predictions': 0.7968101874415835}\n",
      "{'skill_name': 'DP', 'correct_predictions': 0.19999999999999996, 'state_predictions': 0.09889645911922718}\n",
      "{'skill_name': 'Graph', 'correct_predictions': 0.39999999999999997, 'state_predictions': 0.23720393761471384}\n",
      "{'skill_name': 'Hash map', 'correct_predictions': 0.2, 'state_predictions': 0.18384027569397915}\n",
      "{'skill_name': 'Hash tables', 'correct_predictions': 0.6, 'state_predictions': 0.1865301927983173}\n",
      "{'skill_name': 'Heap', 'correct_predictions': 0.19999999999999996, 'state_predictions': 0.13320667159907978}\n",
      "{'skill_name': 'Linked List', 'correct_predictions': 0.6, 'state_predictions': 0.6670610397157042}\n",
      "{'skill_name': 'Queues', 'correct_predictions': 0.4, 'state_predictions': 0.0851536592979943}\n",
      "{'skill_name': 'Recursion', 'correct_predictions': 1.0, 'state_predictions': 0.15792045902906773}\n",
      "{'skill_name': 'Searching', 'correct_predictions': 0.39999999999999997, 'state_predictions': 0.3114498314177019}\n",
      "{'skill_name': 'Sorting', 'correct_predictions': 0.8, 'state_predictions': 0.1744438674172217}\n",
      "{'skill_name': 'TC', 'correct_predictions': 0.8, 'state_predictions': 0.3384851518092078}\n",
      "{'skill_name': 'Tree', 'correct_predictions': 0.6, 'state_predictions': 0.9865623963221759}\n",
      "{'skill_name': 'Trees', 'correct_predictions': 0.6, 'state_predictions': 0.6194720574673174}\n",
      "{'skill_name': 'Trie', 'correct_predictions': 0.6, 'state_predictions': 0.5019299059347616}\n",
      "[0, 0, 1, 1, 1, 1, 1, 1, 1, 1, 1, 1, 0, 1, 1, 1, 1, 1, 0, 1, 1, 1, 1, 1, 0, 0, 1, 1, 1, 1, 0, 0, 1, 0, 0, 1, 0, 0, 1, 0, 1, 1, 0, 1, 1]\n"
     ]
    }
   ],
   "source": [
    "prediction_result = []\n",
    "for skill_data in dict_from_df:\n",
    "    skill = dict_from_df[skill_data]\n",
    "    proficiency_level = determine_proficiency(skill[\"correct_predictions\"], skill[\"state_predictions\"])\n",
    "    prediction_result.extend(proficiency_level)\n",
    "print(prediction_result)"
   ]
  },
  {
   "cell_type": "code",
   "execution_count": null,
   "metadata": {},
   "outputs": [],
   "source": []
  }
 ],
 "metadata": {
  "kernelspec": {
   "display_name": "Python 3",
   "language": "python",
   "name": "python3"
  },
  "language_info": {
   "codemirror_mode": {
    "name": "ipython",
    "version": 3
   },
   "file_extension": ".py",
   "mimetype": "text/x-python",
   "name": "python",
   "nbconvert_exporter": "python",
   "pygments_lexer": "ipython3",
   "version": "3.10.12"
  }
 },
 "nbformat": 4,
 "nbformat_minor": 2
}
